{
  "cells": [
    {
      "cell_type": "code",
      "execution_count": 4,
      "metadata": {
        "id": "UuwLd1k5xJyQ"
      },
      "outputs": [],
      "source": [
        "# Importing libraries\r\n",
        "\r\n",
        "import numpy as np;\r\n",
        "import matplotlib.pyplot as maps\r\n",
        "from tqdm import tqdm\r\n",
        "import random\r\n",
        "from matplotlib import gridspec"
      ]
    },
    {
      "cell_type": "code",
      "execution_count": null,
      "metadata": {
        "colab": {
          "base_uri": "https://localhost:8080/"
        },
        "id": "0j5mEYc9DzMf",
        "outputId": "d8f7ff3b-6df6-48a6-fc2e-e37815a397df"
      },
      "outputs": [],
      "source": [
        "from google.colab import drive\n",
        "drive.mount('/content/drive', force_remount = True)"
      ]
    },
    {
      "cell_type": "markdown",
      "metadata": {
        "id": "ep9GVDc5yfKe"
      },
      "source": [
        "## Physical constraints\n",
        "Before proceeding, let's set the spatial and temporal domains. We have to have a minimum velocity to comply with the CPL criterion and even a maximum velocity to limit the numerical dispersion.<br /> \n",
        "We will have <br />\n",
        "dx= 1.0 m <br />\n",
        "epl= 0.8 <br />\n",
        "and c $\\in$ [200.0, 500.0] m/s <br />\n",
        "Therefore, dt= epl/c_min\\* dx= 0.8/200.\\*1.0= 0.004 sec\n",
        "<br/> Also, a 4- or 5-point FD operator would be a better choice."
      ]
    },
    {
      "cell_type": "markdown",
      "metadata": {
        "id": "M7Ulb5AlyfNZ"
      },
      "source": [
        "## Computational constraints\r\n",
        "There are no constraints related to physical system now. The other thing is how much data can we generate and adequately train. <br/>\r\n",
        "If we have nx= 1001, then all the input velocity models would be of this length and so for a 100,000 data points we will have $2 * 10^8$ values corresponding to data of 1600 MB. Also, for each model, we will have, say, nt= 1000 points. That will require another 1600 GB. <br/> Something not really feasible. \r\n",
        "<br/> The better approach would then be to have both the velocity model as well as the amplitude in the input, that is we will have a data of 1600 MB corresponding feeding into the input nodes. This will enable us to use our model in loop to iterate for further timesteps.\r\n",
        "<br/>We can also reduce nt to say, 10. This would make it to 8 GB. A good improvement. A reduction in number of data points to 10,000 would fit all the data within 1 GB."
      ]
    },
    {
      "cell_type": "markdown",
      "metadata": {
        "id": "uvF6NAwnyfP_"
      },
      "source": [
        "## Dataset Generation"
      ]
    },
    {
      "cell_type": "code",
      "execution_count": 5,
      "metadata": {
        "colab": {
          "base_uri": "https://localhost:8080/"
        },
        "id": "-X_WCi3kTbkD",
        "outputId": "def477f3-4a6e-4186-e291-d2b703d080c1"
      },
      "outputs": [
        {
          "name": "stdout",
          "output_type": "stream",
          "text": [
            "dt=  0.0023952095808383233\n",
            "Duration of simulation would be  1.1976047904191616  sec\n"
          ]
        }
      ],
      "source": [
        "# Parameter Configuration \n",
        "# -----------------------\n",
        "\n",
        "nx   = 1001        # number of grid points in x-direction\n",
        "xmax = 1000        # physical domain (m)\n",
        "dx   = xmax/(nx-1)  # grid point distance in x-direction\n",
        "x    = dx* np.arange(nx); # spatial fabric\n",
        "\n",
        "\n",
        "# Medium velocity\n",
        "c_min= 200.;\n",
        "c_max= 500.;\n",
        "c0   = 334.         # wave speed in medium (m/s)\n",
        "c    = np.zeros(nx)\n",
        "c    = c + c0       # Homogeneous medium\n",
        "\n",
        "#c[int(nx/3):int(2*nx/3)]= 0.5*c0\n",
        "#c[int(nx/2):int(2*nx/3)]= 0.25* c0\n",
        "\n",
        "# CPL Stability Criterion\n",
        "eps= 0.8; # <1\n",
        "dt= eps/c0*dx; # Now we don't have to worry about the stability of the solution\n",
        "nt   = 500          # maximum number of time steps\n",
        "time = np.linspace(0 * dt, nt * dt, nt); # time fabric\n",
        "\n",
        "print('dt= ', dt);\n",
        "print('Duration of simulation would be ', time[-1], ' sec');"
      ]
    },
    {
      "cell_type": "code",
      "execution_count": 6,
      "metadata": {
        "id": "3GTzvfdPy-ZP"
      },
      "outputs": [],
      "source": [
        "def space(x, cmax, cmin, dist_type= 'uniform', narrow_limit= 0.15):\n",
        "  l= len(x);\n",
        "  nl= int(narrow_limit*l);\n",
        "  if dist_type== 'uniform':\n",
        "    cout= (cmax+ cmin)/2* np.ones_like(x);\n",
        "  elif dist_type== '2 parts':\n",
        "    c1= random.randint(cmin, cmax);\n",
        "    c2= random.randint(cmin, cmax);\n",
        "    b1= random.randint(int(0.3333* l), int(0.667*l));\n",
        "    cout= c1*np.ones_like(x);\n",
        "    cout[b1:l]= c2;\n",
        "  elif dist_type== '3 parts':\n",
        "    c1= random.randint(cmin, cmax);\n",
        "    c2= random.randint(cmin, cmax);\n",
        "    c3= random.randint(cmin, cmax);\n",
        "    b1= random.randint(int(0.25* l), int(0.5*l));\n",
        "    b2= random.randint(b1, int(0.75*l));\n",
        "    if b2-b1<nl:\n",
        "      b2= b1+nl;\n",
        "    cout= c1*np.ones_like(x);\n",
        "    cout[b1:b2]= c2;\n",
        "    cout[b2:l]= c3;\n",
        "  elif dist_type== '4 parts':\n",
        "    c1= random.randint(cmin, cmax);\n",
        "    c2= random.randint(cmin, cmax);\n",
        "    c3= random.randint(cmin, cmax);\n",
        "    c4= random.randint(cmin, cmax);\n",
        "    b1= random.randint(int(0.2* l), int(0.4*l));\n",
        "    b2= random.randint(b1, int(0.6*l));\n",
        "    if b2-b1<nl:\n",
        "      b2= b1+nl;\n",
        "    b3= random.randint(b2, int(0.8*l));\n",
        "    if b3-b2<nl:\n",
        "      b3= b2+nl;\n",
        "    cout= c1*np.ones_like(x);\n",
        "    cout[b1:b2]= c2;\n",
        "    cout[b2:b3]= c3;\n",
        "    cout[b3:l]= c4;\n",
        "  elif dist_type== 'random':\n",
        "    cout= cmin+ np.random.randn(l)*(cmax- cmin);\n",
        "\n",
        "  return cout;\n"
      ]
    },
    {
      "cell_type": "code",
      "execution_count": 7,
      "metadata": {
        "colab": {
          "base_uri": "https://localhost:8080/",
          "height": 282
        },
        "id": "6CaNM9TGy-ju",
        "outputId": "ac4e8c71-e2be-4809-8ee6-c9ad1d860aaa"
      },
      "outputs": [
        {
          "data": {
            "text/plain": [
              "[<matplotlib.lines.Line2D at 0x1cb4a58bef0>]"
            ]
          },
          "execution_count": 7,
          "metadata": {},
          "output_type": "execute_result"
        },
        {
          "data": {
            "image/png": "[encoded data removed]",
            "text/plain": [
              "<Figure size 432x288 with 1 Axes>"
            ]
          },
          "metadata": {
            "needs_background": "light"
          },
          "output_type": "display_data"
        }
      ],
      "source": [
        "cx= space(x, cmax= c_max, cmin= c_min, dist_type= '3 parts')\r\n",
        "maps.plot(x, cx)"
      ]
    },
    {
      "cell_type": "code",
      "execution_count": 8,
      "metadata": {
        "id": "IzfL4RZ5GpPl"
      },
      "outputs": [],
      "source": [
        "# Source time function\n",
        "\n",
        "def source_fn(f0, t0, fn):\n",
        "    src  = np.zeros(nt + 1); \n",
        "    if fn== 'Gaussian':\n",
        "        src  = -8. * (time - t0) * f0 * (np.exp(-1.0 * (4*f0) ** 2 * (time - t0) ** 2));\n",
        "    elif fn== 'sin':\n",
        "        src  = np.zeros(nt); \n",
        "        src[0:round(c0/f0+15)]= np.sin(2*3.14*f0*(time[0:round(c0/f0+15)]-t0));\n",
        "    elif fn== 'delta':\n",
        "        src  = np.zeros(nt); \n",
        "        src[round(t0/dt)]= 1;\n",
        "    return src;\n"
      ]
    },
    {
      "cell_type": "code",
      "execution_count": 9,
      "metadata": {
        "id": "4L5tE75v92sF"
      },
      "outputs": [],
      "source": [
        "nx   = 1001        # number of grid points in x-direction\n",
        "xmax = 1000        # physical domain (m)\n",
        "dx   = xmax/(nx-1)  # grid point distance in x-direction\n",
        "x    = dx* np.arange(nx); # spatial fabric\n",
        "\n",
        "\n",
        "# CPL Stability Criterion\n",
        "eps= 0.8; # <1\n",
        "dt= eps/c_max*dx; # Now we don't have to worry about the stability of the solution\n",
        "nt   = 500          # maximum number of time steps\n",
        "time = np.linspace(0 * dt, nt * dt, nt); # time fabric\n",
        "\n",
        "\n",
        "def generate_p(x, cx, p0):\n",
        "  p= p0;\n",
        "  P= np.zeros((nt, nx));\n",
        "  pold= np.zeros_like(p);\n",
        "  pnew= np.zeros_like(p);\n",
        "  d2px = np.zeros(nx) # 2nd space derivative of p\n",
        "  for it in range(nt):\n",
        "      for i in range(1, nx - 1):\n",
        "          d2px[i] = (p[i + 1] - 2 * p[i] + p[i - 1]) / dx ** 2;\n",
        "\n",
        "      pnew = 2 * p - pold + cx ** 2 * dt ** 2 * d2px;\n",
        "      #pnew[isrc] = pnew[isrc] + src[it] / (dx) * dt ** 2;\n",
        "      pold, p = p, pnew;\n",
        "      P[it,:]= pnew;\n",
        "  \n",
        "  return P;\n",
        "\n"
      ]
    },
    {
      "cell_type": "code",
      "execution_count": null,
      "metadata": {
        "colab": {
          "base_uri": "https://localhost:8080/",
          "height": 282
        },
        "id": "DP9VwsTl_ot6",
        "outputId": "5aec5759-604c-4e13-8a3e-5cb917ba3484"
      },
      "outputs": [],
      "source": [
        "p    = np.zeros(nx) # p at time n (now)\n",
        "p[500]= 0.1;\n",
        "p= generate_p(x, cx, p)[-1,:]\n",
        "maps.plot(x, p)"
      ]
    },
    {
      "cell_type": "code",
      "execution_count": 12,
      "metadata": {
        "id": "ez7MIlDYv5Mt"
      },
      "outputs": [],
      "source": [
        "def get_p0(nsrc, x):\n",
        "  l= len(x);\n",
        "  i_srcs= [random.randint(0, l-1) for i in range(0, nsrc)];\n",
        "  srcs= 0.01* np.array([random.randint(0, 100) for i in range(0, nsrc)]);\n",
        "  p= np.zeros_like(x);\n",
        "  p[i_srcs]= srcs;\n",
        "  return p;\n",
        "  "
      ]
    },
    {
      "cell_type": "code",
      "execution_count": 13,
      "metadata": {
        "colab": {
          "base_uri": "https://localhost:8080/",
          "height": 282
        },
        "id": "PBKom5A50gYI",
        "outputId": "bc60493a-a94d-4ea6-db64-54f8cbefeaa2"
      },
      "outputs": [
        {
          "data": {
            "text/plain": [
              "[<matplotlib.lines.Line2D at 0x1cb4a650e10>]"
            ]
          },
          "execution_count": 13,
          "metadata": {},
          "output_type": "execute_result"
        },
        {
          "data": {
            "image/png": "[encoded data removed]",
            "text/plain": [
              "<Figure size 432x288 with 1 Axes>"
            ]
          },
          "metadata": {
            "needs_background": "light"
          },
          "output_type": "display_data"
        }
      ],
      "source": [
        "Pi= get_p0(5, x);\n",
        "maps.plot(x, Pi)"
      ]
    },
    {
      "cell_type": "code",
      "execution_count": 14,
      "metadata": {
        "colab": {
          "base_uri": "https://localhost:8080/"
        },
        "id": "mg838sO1vO21",
        "outputId": "091ea22a-a42d-40af-8e18-d0500054c1a0"
      },
      "outputs": [
        {
          "name": "stderr",
          "output_type": "stream",
          "text": [
            "100%|██████████| 1/1 [00:00<00:00,  2.02it/s]\n"
          ]
        }
      ],
      "source": [
        "sample= 1;\r\n",
        "pred_t_len= 20; # we predict the next 20 time steps\r\n",
        "each_samp= 25; # we pick 25 sample points from each (cx,p0) distribution\r\n",
        "Px= np.zeros((each_samp*sample, nx));\r\n",
        "Py= np.zeros((each_samp*sample, pred_t_len, nx));\r\n",
        "C= np.zeros_like(Px);\r\n",
        "for i in tqdm(range(0, sample)):\r\n",
        "  dist_type= random.choice(['uniform', '2 parts', '3 parts', '4 parts']);\r\n",
        "  cx= space(x, cmax= c_max, cmin= c_min, dist_type= dist_type);\r\n",
        "  nsrc= random.randint(1, 10);\r\n",
        "  p0= get_p0(nsrc, x);\r\n",
        "  P_i= generate_p(x, cx, p0); # (nt, nx)= (500, 1001)\r\n",
        "  pick_sample= [random.randint(0, 10) for i in range(0, each_samp)];\r\n",
        "  px= P_i[pick_sample, :]; #(each_samp, nt) where we are picking each_samp (25) data points for the current cx, p0 distribution\r\n",
        "  #px= np.expand_dims(px, axis= 1);\r\n",
        "  py= np.array([P_i[pick_sample[i]+1: pick_sample[i]+pred_t_len+1, :] for i in range(0, len(pick_sample))]);\r\n",
        "  #print(px.shape, py.shape);\r\n",
        "  Px[each_samp*i:each_samp*(i+1),:]= px;\r\n",
        "  Py[each_samp*i:each_samp*(i+1),:,:]= py;\r\n",
        "  C[each_samp*i:each_samp*(i+1),:]= cx;\r\n",
        "  #P[50*i:50*(i+1),:]= P_i[pick_sample, :];\r\n",
        "  #if i%each_samp==0:\r\n",
        "    #print(\"%d/%d\" %(i*each_samp, sample*each_samp))\r\n"
      ]
    },
    {
      "cell_type": "code",
      "execution_count": null,
      "metadata": {
        "id": "4-XWvqDMDVxu"
      },
      "outputs": [],
      "source": [
        "np.savez_compressed(\"/content/drive/MyDrive/wave_sim/test_X_data.npz\", X= Px)"
      ]
    },
    {
      "cell_type": "code",
      "execution_count": null,
      "metadata": {
        "id": "gqWkug7ggWBH"
      },
      "outputs": [],
      "source": [
        "np.savez_compressed(\"/content/drive/MyDrive/wave_sim/test_C_data.npz\", C= C)"
      ]
    },
    {
      "cell_type": "code",
      "execution_count": null,
      "metadata": {
        "id": "WmVveoPDDoS7"
      },
      "outputs": [],
      "source": [
        "np.savez_compressed(\"/content/drive/MyDrive/wave_sim/test_Y_data.npz\", Y= Py)"
      ]
    }
  ],
  "metadata": {
    "colab": {
      "name": "AI_ wave_simulation_data_generator.ipynb",
      "provenance": []
    },
    "interpreter": {
      "hash": "b3ba2566441a7c06988d0923437866b63cedc61552a5af99d1f4fb67d367b25f"
    },
    "kernelspec": {
      "display_name": "Python 3.7.3 64-bit",
      "name": "python3"
    },
    "language_info": {
      "codemirror_mode": {
        "name": "ipython",
        "version": 3
      },
      "file_extension": ".py",
      "mimetype": "text/x-python",
      "name": "python",
      "nbconvert_exporter": "python",
      "pygments_lexer": "ipython3",
      "version": "3.7.3"
    }
  },
  "nbformat": 4,
  "nbformat_minor": 0
}