{
  "cells": [
    {
      "cell_type": "code",
      "execution_count": 1,
      "metadata": {
        "id": "BPkNKfgJydri"
      },
      "outputs": [],
      "source": [
        "# Importing libraries\r\n",
        "\r\n",
        "import numpy as np\r\n",
        "import matplotlib.pyplot as maps\r\n",
        "import random\r\n",
        "from tqdm import tqdm\r\n",
        "from matplotlib import gridspec "
      ]
    },
    {
      "cell_type": "code",
      "execution_count": null,
      "metadata": {
        "colab": {
          "base_uri": "https://localhost:8080/"
        },
        "id": "JEl_Mxq2nynL",
        "outputId": "944c2572-ac18-4e0b-dc97-bee660937052"
      },
      "outputs": [
        {
          "name": "stdout",
          "output_type": "stream",
          "text": [
            "Mounted at /content/drive\n"
          ]
        }
      ],
      "source": [
        "from google.colab import drive\n",
        "drive.mount('/content/drive', force_remount = True)"
      ]
    },
    {
      "cell_type": "code",
      "execution_count": 4,
      "metadata": {
        "colab": {
          "base_uri": "https://localhost:8080/"
        },
        "id": "-X_WCi3kTbkD",
        "outputId": "724d1291-b966-4848-9199-219cb8d62f6b"
      },
      "outputs": [
        {
          "name": "stdout",
          "output_type": "stream",
          "text": [
            "dt=  0.0016\n",
            "Duration of simulation would be  0.8  sec\n"
          ]
        }
      ],
      "source": [
        "# Parameter Configuration \n",
        "# -----------------------\n",
        "\n",
        "nx   = 1001        # number of grid points in x-direction\n",
        "xmax = 1000        # physical domain (m)\n",
        "dx   = xmax/(nx-1)  # grid point distance in x-direction\n",
        "x    = dx* np.arange(nx); # spatial fabric\n",
        "\n",
        "\n",
        "# Medium velocity\n",
        "c_min= 200.;\n",
        "c_max= 500.;\n",
        "c0   = 334.         # wave speed in medium (m/s)\n",
        "c    = np.zeros(nx)\n",
        "c    = c + c0       # Homogeneous medium\n",
        "\n",
        "#c[int(nx/3):int(2*nx/3)]= 0.5*c0\n",
        "#c[int(nx/2):int(2*nx/3)]= 0.25* c0\n",
        "\n",
        "# CPL Stability Criterion\n",
        "eps= 0.8; # <1\n",
        "dt= eps/c_max*dx; # Now we don't have to worry about the stability of the solution\n",
        "nt   = 500          # maximum number of time steps\n",
        "time = np.linspace(0 * dt, nt * dt, nt); # time fabric\n",
        "\n",
        "print('dt= ', dt);\n",
        "print('Duration of simulation would be ', time[-1], ' sec');"
      ]
    },
    {
      "cell_type": "code",
      "execution_count": 5,
      "metadata": {
        "id": "3GTzvfdPy-ZP"
      },
      "outputs": [],
      "source": [
        "def space(x, cmax, cmin, dist_type= 'uniform', narrow_limit= 0.15):\n",
        "  l= len(x);\n",
        "  nl= int(narrow_limit*l);\n",
        "  if dist_type== 'uniform':\n",
        "    cout= (cmax+ cmin)/2* np.ones_like(x);\n",
        "  elif dist_type== '2 parts':\n",
        "    c1= random.randint(cmin, cmax);\n",
        "    c2= random.randint(cmin, cmax);\n",
        "    b1= random.randint(int(0.3333* l), int(0.667*l));\n",
        "    cout= c1*np.ones_like(x);\n",
        "    cout[b1:l]= c2;\n",
        "  elif dist_type== '3 parts':\n",
        "    c1= random.randint(cmin, cmax);\n",
        "    c2= random.randint(cmin, cmax);\n",
        "    c3= random.randint(cmin, cmax);\n",
        "    b1= random.randint(int(0.25* l), int(0.5*l));\n",
        "    b2= random.randint(b1, int(0.75*l));\n",
        "    if b2-b1<nl:\n",
        "      b2= b1+nl;\n",
        "    cout= c1*np.ones_like(x);\n",
        "    cout[b1:b2]= c2;\n",
        "    cout[b2:l]= c3;\n",
        "  elif dist_type== '4 parts':\n",
        "    c1= random.randint(cmin, cmax);\n",
        "    c2= random.randint(cmin, cmax);\n",
        "    c3= random.randint(cmin, cmax);\n",
        "    c4= random.randint(cmin, cmax);\n",
        "    b1= random.randint(int(0.2* l), int(0.4*l));\n",
        "    b2= random.randint(b1, int(0.6*l));\n",
        "    if b2-b1<nl:\n",
        "      b2= b1+nl;\n",
        "    b3= random.randint(b2, int(0.8*l));\n",
        "    if b3-b2<nl:\n",
        "      b3= b2+nl;\n",
        "    cout= c1*np.ones_like(x);\n",
        "    cout[b1:b2]= c2;\n",
        "    cout[b2:b3]= c3;\n",
        "    cout[b3:l]= c4;\n",
        "  elif dist_type== 'random':\n",
        "    cout= cmin+ np.random.randn(l)*(cmax- cmin);\n",
        "\n",
        "  return cout;\n"
      ]
    },
    {
      "cell_type": "code",
      "execution_count": 6,
      "metadata": {
        "colab": {
          "base_uri": "https://localhost:8080/",
          "height": 282
        },
        "id": "6CaNM9TGy-ju",
        "outputId": "94b62c95-44b2-4676-be1c-c7067c36b918"
      },
      "outputs": [
        {
          "data": {
            "text/plain": [
              "[<matplotlib.lines.Line2D at 0x1950ac387f0>]"
            ]
          },
          "execution_count": 6,
          "metadata": {},
          "output_type": "execute_result"
        },
        {
          "data": {
            "image/png": "[encoded data removed]",
            "text/plain": [
              "<Figure size 432x288 with 1 Axes>"
            ]
          },
          "metadata": {
            "needs_background": "light"
          },
          "output_type": "display_data"
        }
      ],
      "source": [
        "cx= space(x, cmax= c_max, cmin= c_min, dist_type= 'uniform')\n",
        "maps.plot(x, cx)"
      ]
    },
    {
      "cell_type": "code",
      "execution_count": 10,
      "metadata": {
        "id": "H5nTXUSZ3wgP"
      },
      "outputs": [],
      "source": [
        "def travel_time(dx, c, isrc, irec):\n",
        "  l= dx/c;\n",
        "  t= np.sum(l[min(isrc, irec):max(isrc, irec)]);\n",
        "  return t;"
      ]
    },
    {
      "cell_type": "code",
      "execution_count": null,
      "metadata": {
        "id": "2jyr2GmbQdY9"
      },
      "outputs": [],
      "source": [
        "def avg_slowness(dx, c, isrc, irec):\n",
        "  l= dx/c;\n",
        "  t= np.sum(l[isrc:irec])#*np.sum(np.arange(min(isrc, irec), max(isrc, irec)));\n",
        "  v= np.abs(irec-isrc)\n",
        "  return t;\n",
        "  "
      ]
    },
    {
      "cell_type": "markdown",
      "metadata": {
        "id": "f2LJk2u_D2rC"
      },
      "source": [
        "Transmission is easy but reflection can create havoc. The direction of the changed wave due to reflection makes matter bad, really bad. This and the transmission that occurs from the reflected wave and the amplitudes. </br>\r\n",
        "Let's go with training the network with the analytical solution for homogeneous medium only. The point of extending the analytical solution to an inhomogeneous medium to '2 parts', and not '3 parts' or so on does not look to go well. We will sometime look for the complex algorithm that will give the analytical solution for inhomogeneous medium later on."
      ]
    },
    {
      "cell_type": "code",
      "execution_count": 7,
      "metadata": {
        "id": "kfVigQgE7EeI"
      },
      "outputs": [],
      "source": [
        "# Failed attempt at defining analytical solution for inhomogeneous medium\r\n",
        "\r\n",
        "_= \"\"\"\r\n",
        "\r\n",
        "\r\n",
        "def G_fn(isrc, c, t):\r\n",
        "  G= G_fn_homogeneous(isrc, c[isrc]*np.ones_like(c), t);\r\n",
        "  # from isrc towards left\r\n",
        "\r\n",
        "  T= [c[i]/(c[i]+c[i+1]) for i in range(isrc, len(c)-1)];\r\n",
        "  R= [(c[i+1]-c[i])/(c[i]+c[i+1]) for i in range(isrc, len(c)-1)];\r\n",
        "\r\n",
        "  # Transmission is easy\r\n",
        "  G[isrc:-1]= T* G[isrc:-1];\r\n",
        "  i= 0; # at source\r\n",
        "  G[isrc-i]=1/(2*c[isrc-i]);\r\n",
        "  while (True):\r\n",
        "    i=i+1;\r\n",
        "    if isrc-i>=0:\r\n",
        "      T= 1;\r\n",
        "      c1= c[isrc-i+1];\r\n",
        "      c2= c[isrc-i];\r\n",
        "      if not c2== c1:\r\n",
        "        T= 2*c1/(c1+c2);\r\n",
        "        G[isrc-i]= T*1/(2*c[isrc-i]);\r\n",
        "      \r\n",
        "  for i in range(0, len(c)):\r\n",
        "    tt= travel_time(dx, c, isrc, i);\r\n",
        "    if(t>=tt):\r\n",
        "      G= 1/(2*c[i]);\r\n",
        "      if isrc==i:\r\n",
        "        G[i]= 1/2/c[i];\r\n",
        "      else:\r\n",
        "        tt_trans= \r\n",
        "        if \r\n",
        "        G[i]= tt/(dx*2*abs(isrc-i))#*(isrc-i))\r\n",
        "        #abs(isrc-i)*1/2*1/np.sum(c[min(isrc, i):max(isrc, i)]);\r\n",
        "  return G;\"\"\""
      ]
    },
    {
      "cell_type": "code",
      "execution_count": 8,
      "metadata": {},
      "outputs": [],
      "source": [
        "def G_fn_homogeneous(isrc, c, t):\r\n",
        "  G= np.zeros_like(c);\r\n",
        "  l_c= len(c)\r\n",
        "  for i in range(0, len(c)):\r\n",
        "    tt= travel_time(dx, c, isrc, i);\r\n",
        "    if(t>=tt):\r\n",
        "      G[i]= 1/(2*c[i]);\r\n",
        "      tt_b1= travel_time(dx, c, i, 0);\r\n",
        "      tt_b2= travel_time(dx, c, i, l_c);\r\n",
        "      f1= True if t>=(tt+2*tt_b1) else False; # True if reflection from boundary B1 will also arrive\r\n",
        "      f2= True if t>=(tt+2*tt_b2) else False; # True if reflection from boundary B2 will also arrive\r\n",
        "      if f1 and f2:\r\n",
        "        G[i]= -G[i];\r\n",
        "      elif not f1 and not f2:\r\n",
        "        G[i]= G[i];\r\n",
        "      else:\r\n",
        "        G[i]= 0.0;\r\n",
        "\r\n",
        "  return G;"
      ]
    },
    {
      "cell_type": "code",
      "execution_count": 17,
      "metadata": {
        "id": "PWCKTrwALXkG"
      },
      "outputs": [],
      "source": [
        "G= G_fn_homogeneous(400, cx, time[-100])\r\n",
        "G= G/dt/10"
      ]
    },
    {
      "cell_type": "code",
      "execution_count": 18,
      "metadata": {
        "colab": {
          "base_uri": "https://localhost:8080/",
          "height": 279
        },
        "id": "rF6gq18MzheL",
        "outputId": "17118ddf-884d-4635-e60b-be39d37f0e77"
      },
      "outputs": [
        {
          "data": {
            "image/png": "[encoded data removed]",
            "text/plain": [
              "<Figure size 432x288 with 1 Axes>"
            ]
          },
          "metadata": {
            "needs_background": "light"
          },
          "output_type": "display_data"
        }
      ],
      "source": [
        "maps.plot(x, 0*x);\r\n",
        "maps.plot(x[400]*np.array([1.,1.]), G[400]*np.array([0.,1.]), 'b-')\r\n",
        "maps.plot(x[400], G[400], 'r.')\r\n",
        "maps.xlabel('x');\r\n",
        "maps.ylabel('Amplitude')\r\n",
        "maps.grid('on')"
      ]
    },
    {
      "cell_type": "code",
      "execution_count": 16,
      "metadata": {
        "colab": {
          "base_uri": "https://localhost:8080/",
          "height": 282
        },
        "id": "GEaJLOkU0Eh-",
        "outputId": "d791a895-0a28-43a5-c0a3-8231a638770f"
      },
      "outputs": [
        {
          "data": {
            "text/plain": [
              "[<matplotlib.lines.Line2D at 0x1950b86f7b8>]"
            ]
          },
          "execution_count": 16,
          "metadata": {},
          "output_type": "execute_result"
        },
        {
          "data": {
            "image/png": "[encoded data removed]",
            "text/plain": [
              "<Figure size 432x288 with 1 Axes>"
            ]
          },
          "metadata": {
            "needs_background": "light"
          },
          "output_type": "display_data"
        }
      ],
      "source": [
        "def generate_p(x, cx, p0):\r\n",
        "  p= p0;\r\n",
        "  P= np.zeros((nt, nx));\r\n",
        "  pold= np.zeros_like(p);\r\n",
        "  pnew= np.zeros_like(p);\r\n",
        "  d2px = np.zeros(nx) # 2nd space derivative of p\r\n",
        "  for it in range(nt):\r\n",
        "      for i in range(1, nx - 1):\r\n",
        "          d2px[i] = (p[i + 1] - 2 * p[i] + p[i - 1]) / dx ** 2;\r\n",
        "\r\n",
        "      pnew = 2 * p - pold + cx ** 2 * dt ** 2 * d2px;\r\n",
        "      #pnew[isrc] = pnew[isrc] + src[it] / (dx) * dt ** 2;\r\n",
        "      pold, p = p, pnew;\r\n",
        "      P[it,:]= pnew;\r\n",
        "  \r\n",
        "  return P;\r\n",
        "\r\n",
        "p    = np.zeros(nx) # p at time n (now)\r\n",
        "isrc= 800;\r\n",
        "p[isrc]= 0.1;\r\n",
        "p[600]= 0.2;\r\n",
        "nt= 400\r\n",
        "p= generate_p(x, cx, p)[-1,:]\r\n",
        "maps.plot(x, p)\r\n",
        "G= G_fn_homogeneous(isrc, cx, nt*dt)+ 2*G_fn_homogeneous(600, cx, nt*dt)\r\n",
        "G= G/dt/10\r\n",
        "maps.plot(x, G)\r\n"
      ]
    },
    {
      "cell_type": "code",
      "execution_count": 19,
      "metadata": {
        "id": "EMDre1mtSZOs"
      },
      "outputs": [],
      "source": [
        "def get_p0(nsrc, x):\n",
        "  l= len(x);\n",
        "  i_srcs= [random.randint(150, 850) for i in range(0, nsrc)];\n",
        "  srcs= 0.01* np.array([random.randint(0, 100) for i in range(0, nsrc)]);\n",
        "  p= np.zeros_like(x);\n",
        "  p[i_srcs]= srcs;\n",
        "  return [i_srcs, srcs];"
      ]
    },
    {
      "cell_type": "code",
      "execution_count": 20,
      "metadata": {
        "id": "OXeBi2TPTlDw"
      },
      "outputs": [],
      "source": [
        "def get_G(x, cx, isrcs, srcs, nt):\n",
        "  P_i= np.zeros((nt, nx));\n",
        "  for t in range(0,nt):\n",
        "    pi= [srcs[i]/0.1*G_fn_homogeneous(isrcs[i], cx, t*dt) for i in range(0, len(srcs))];\n",
        "    pi= np.sum(np.array(pi), axis= 0);\n",
        "    P_i[t]= pi;\n",
        "  \n",
        "  return P_i;"
      ]
    },
    {
      "cell_type": "code",
      "execution_count": 21,
      "metadata": {
        "colab": {
          "base_uri": "https://localhost:8080/",
          "height": 252
        },
        "id": "9aMpaE5KQfM1",
        "outputId": "eea1f6c3-efbd-40ea-aad8-9abbdb293a14"
      },
      "outputs": [
        {
          "name": "stderr",
          "output_type": "stream",
          "text": [
            "100%|██████████| 1/1 [00:10<00:00, 10.41s/it]\n"
          ]
        }
      ],
      "source": [
        "sample= 1;\r\n",
        "pred_t_len= 20; # we predict the next 20 time steps\r\n",
        "each_samp= 25; # we pick 25 sample points from each (cx,p0) distribution\r\n",
        "Px= np.zeros((each_samp*sample, nx));\r\n",
        "Py= np.zeros((each_samp*sample, pred_t_len, nx));\r\n",
        "C= np.zeros_like(Px);\r\n",
        "for i in tqdm(range(0, sample)):\r\n",
        "  dist_type= 'uniform';\r\n",
        "  cx= space(x, cmax= c_max, cmin= c_min, dist_type= dist_type);\r\n",
        "  nsrc= random.randint(1, 10);\r\n",
        "  [isrcs, srcs]= get_p0(nsrc, x);\r\n",
        "  P_i= get_G(x, cx, isrcs, srcs, nt);\r\n",
        "  #P_i= generate_p(x, cx, p0); # (nt, nx)= (500, 1001)\r\n",
        "  pick_sample= [random.randint(0, nt-each_samp-5) for i in range(0, each_samp)];\r\n",
        "  px= P_i[pick_sample, :]; #(each_samp, nt) where we are picking each_samp (25) data points for the current cx, p0 distribution\r\n",
        "  #px= np.expand_dims(px, axis= 1);\r\n",
        "  py= np.array([P_i[pick_sample[i]+1: pick_sample[i]+pred_t_len+1, :] for i in range(0, len(pick_sample))]);\r\n",
        "  #print(px.shape, py.shape);\r\n",
        "  Px[each_samp*i:each_samp*(i+1),:]= px;\r\n",
        "  Py[each_samp*i:each_samp*(i+1),:,:]= py;\r\n",
        "  C[each_samp*i:each_samp*(i+1),:]= cx;\r\n",
        "  #break;\r\n",
        "  #P[50*i:50*(i+1),:]= P_i[pick_sample, :];\r\n",
        "  #if i%each_samp==0:\r\n",
        "    #print(\"%d/%d\" %(i*each_samp, sample*each_samp))\r\n"
      ]
    },
    {
      "cell_type": "code",
      "execution_count": null,
      "metadata": {
        "id": "4-XWvqDMDVxu"
      },
      "outputs": [],
      "source": [
        "np.savez_compressed(\"/content/drive/MyDrive/wave_sim/G1_X_data.npz\", X= Px)"
      ]
    },
    {
      "cell_type": "code",
      "execution_count": null,
      "metadata": {
        "id": "gqWkug7ggWBH"
      },
      "outputs": [],
      "source": [
        "np.savez_compressed(\"/content/drive/MyDrive/wave_sim/G1_C_data.npz\", C= C)"
      ]
    },
    {
      "cell_type": "code",
      "execution_count": null,
      "metadata": {
        "id": "WmVveoPDDoS7"
      },
      "outputs": [],
      "source": [
        "np.savez_compressed(\"/content/drive/MyDrive/wave_sim/G1_Y_data.npz\", Y= Py)"
      ]
    }
  ],
  "metadata": {
    "colab": {
      "name": "wave_sim_close_to_analytic.ipynb",
      "provenance": []
    },
    "interpreter": {
      "hash": "b3ba2566441a7c06988d0923437866b63cedc61552a5af99d1f4fb67d367b25f"
    },
    "kernelspec": {
      "display_name": "Python 3.7.3 64-bit",
      "name": "python3"
    },
    "language_info": {
      "codemirror_mode": {
        "name": "ipython",
        "version": 3
      },
      "file_extension": ".py",
      "mimetype": "text/x-python",
      "name": "python",
      "nbconvert_exporter": "python",
      "pygments_lexer": "ipython3",
      "version": "3.7.3"
    }
  },
  "nbformat": 4,
  "nbformat_minor": 0
}